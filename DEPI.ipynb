{
  "nbformat": 4,
  "nbformat_minor": 0,
  "metadata": {
    "colab": {
      "provenance": [],
      "authorship_tag": "ABX9TyMnoq+9kNHzYZZDnpdyMMo4",
      "include_colab_link": true
    },
    "kernelspec": {
      "name": "python3",
      "display_name": "Python 3"
    },
    "language_info": {
      "name": "python"
    }
  },
  "cells": [
    {
      "cell_type": "markdown",
      "metadata": {
        "id": "view-in-github",
        "colab_type": "text"
      },
      "source": [
        "<a href=\"https://colab.research.google.com/github/NairaAhmed00/NairaAhmed00/blob/main/DEPI.ipynb\" target=\"_parent\"><img src=\"https://colab.research.google.com/assets/colab-badge.svg\" alt=\"Open In Colab\"/></a>"
      ]
    },
    {
      "cell_type": "markdown",
      "source": [
        "import numpy as np\n",
        "\n",
        "# 1. Broadcasting\n",
        "# a) Add a 1D array [1, 2, 3] to each row of a 2D array [[10, 20, 30], [40, 50, 60]].\n",
        "# Expected: [[11, 22, 33], [41, 52, 63]]\n",
        "\n",
        "# b) Multiply a 2D array [[1, 2], [3, 4]] by a 1D array [10, 20] column-wise.\n",
        "# Expected: [[10, 20], [60, 80]]\n",
        "\n",
        "# 2. Indexing and Slicing (High Dimensional Arrays)\n",
        "arr = np.arange(1, 25).reshape(2, 3, 4)\n",
        "\n",
        "# a) Extract the second slice along axis 0.\n",
        "# Expected: [[13, 14, 15, 16], [17, 18, 19, 20], [21, 22, 23, 24]]\n",
        "\n",
        "# b) Extract all rows and the last column for all slices.\n",
        "# Expected: [[4, 8, 12], [16, 20, 24]]\n",
        "\n",
        "# c) Reverse the order of slices along axis 0.\n",
        "# Expected: [[[13, 14, 15, 16], ...], [[1, 2, 3, 4], ...]]\n",
        "\n",
        "# d) Set all even elements in the array to -1.\n",
        "# Expected: All even numbers replaced by -1.\n",
        "\n",
        "# 3. np.repeat\n",
        "# a) Given arr = np.array([1, 2, 3, 4, 5, 6]), create a new array where every odd element is repeated twice.\n",
        "# Expected: [1, 1, 3, 3, 5, 5]\n",
        "\n",
        "# b) Given arr = np.array([1, 2, 3, 4, 5, 6]), create a new array where elements are repeated based on their value.\n",
        "# For example, 1 is repeated once, 2 twice, etc.\n",
        "# Expected: [1, 2, 2, 3, 3, 3, 4, 4, 4, 4, ...]\n",
        "\n",
        "# 4. Normalizing\n",
        "# a) Normalize a 1D array arr = np.array([10, 20, 30]) to have values between 0 and 1.\n",
        "# Expected: [0.0, 0.5, 1.0]\n",
        "\n",
        "# 5. Bonus Challenge\n",
        "# a) Create a 3x3 matrix where each element at position (i, j) is i * j.\n",
        "# Expected: [[0, 0, 0], [0, 1, 2], [0, 2, 4]]\n",
        "\n",
        "# b) Given a 4x4 matrix, replace all elements on the main diagonal with 0 without using a loop.\n",
        "# Expected: Diagonal elements replaced with 0.\n",
        "\n",
        "\n",
        ""
      ],
      "metadata": {
        "id": "HKmEum9OS-KY"
      }
    },
    {
      "cell_type": "code",
      "source": [
        "import numpy as np"
      ],
      "metadata": {
        "id": "okR5cXzgIzJ-"
      },
      "execution_count": 2,
      "outputs": []
    },
    {
      "cell_type": "code",
      "execution_count": 5,
      "metadata": {
        "colab": {
          "base_uri": "https://localhost:8080/"
        },
        "id": "x-rUYR1aIhIk",
        "outputId": "4bfe2fe6-cc3e-405f-cc9c-0c1fa0b9da76"
      },
      "outputs": [
        {
          "output_type": "execute_result",
          "data": {
            "text/plain": [
              "array([[11, 22, 33],\n",
              "       [41, 52, 63]])"
            ]
          },
          "metadata": {},
          "execution_count": 5
        }
      ],
      "source": [
        "arr_2d = np.array([[10, 20, 30], [40, 50, 60]])\n",
        "arr_1d = np.array([1, 2, 3])\n",
        "\n",
        "result = arr_2d + arr_1d\n",
        "result"
      ]
    },
    {
      "cell_type": "code",
      "source": [
        "arr_2d = np.array([[1, 2], [3, 4]])\n",
        "arr_1d = np.array([10, 20])\n",
        "\n",
        "result = arr_2d * arr_1d[:, np.newaxis]\n",
        "result"
      ],
      "metadata": {
        "colab": {
          "base_uri": "https://localhost:8080/"
        },
        "id": "qw7jFcYCIsbs",
        "outputId": "5cb2bc95-c86e-4bdb-d486-4d1d312fda85"
      },
      "execution_count": 7,
      "outputs": [
        {
          "output_type": "execute_result",
          "data": {
            "text/plain": [
              "array([[10, 20],\n",
              "       [60, 80]])"
            ]
          },
          "metadata": {},
          "execution_count": 7
        }
      ]
    },
    {
      "cell_type": "code",
      "source": [
        "arr = np.arange(1, 25).reshape(2, 3, 4)\n",
        "second_slice = arr[1]\n",
        "print(second_slice)"
      ],
      "metadata": {
        "colab": {
          "base_uri": "https://localhost:8080/"
        },
        "id": "rcFM27j4K9QF",
        "outputId": "9a2ae494-0973-4b92-a6ef-5476d9050015"
      },
      "execution_count": 10,
      "outputs": [
        {
          "output_type": "stream",
          "name": "stdout",
          "text": [
            "[[13 14 15 16]\n",
            " [17 18 19 20]\n",
            " [21 22 23 24]]\n"
          ]
        }
      ]
    },
    {
      "cell_type": "code",
      "source": [
        "last_column = arr[:, :, -1]\n",
        "print(last_column)"
      ],
      "metadata": {
        "colab": {
          "base_uri": "https://localhost:8080/"
        },
        "id": "_8LW1-qvRtvu",
        "outputId": "5ccf8e2e-e2aa-4216-b8aa-cdecdc0f1654"
      },
      "execution_count": 11,
      "outputs": [
        {
          "output_type": "stream",
          "name": "stdout",
          "text": [
            "[[ 4  8 12]\n",
            " [16 20 24]]\n"
          ]
        }
      ]
    },
    {
      "cell_type": "code",
      "source": [
        "reversed_slices = arr[::-1]\n",
        "print(reversed_slices)"
      ],
      "metadata": {
        "colab": {
          "base_uri": "https://localhost:8080/"
        },
        "id": "ysfM_4fNR43B",
        "outputId": "11553219-dace-4227-851f-c7bc6fd40148"
      },
      "execution_count": 12,
      "outputs": [
        {
          "output_type": "stream",
          "name": "stdout",
          "text": [
            "[[[13 14 15 16]\n",
            "  [17 18 19 20]\n",
            "  [21 22 23 24]]\n",
            "\n",
            " [[ 1  2  3  4]\n",
            "  [ 5  6  7  8]\n",
            "  [ 9 10 11 12]]]\n"
          ]
        }
      ]
    },
    {
      "cell_type": "code",
      "source": [
        "arr[arr % 2 == 0] = -1\n",
        "print(arr)"
      ],
      "metadata": {
        "colab": {
          "base_uri": "https://localhost:8080/"
        },
        "id": "6e8rwBoIR-Cf",
        "outputId": "a838d699-382c-425c-c4b3-c91305302175"
      },
      "execution_count": 15,
      "outputs": [
        {
          "output_type": "stream",
          "name": "stdout",
          "text": [
            "[[[ 1 -1  3 -1]\n",
            "  [ 5 -1  7 -1]\n",
            "  [ 9 -1 11 -1]]\n",
            "\n",
            " [[13 -1 15 -1]\n",
            "  [17 -1 19 -1]\n",
            "  [21 -1 23 -1]]]\n"
          ]
        }
      ]
    },
    {
      "cell_type": "code",
      "source": [
        "arr = np.array([1, 2, 3, 4, 5, 6])\n",
        "repeated_arr = np.repeat(arr, np.where(arr % 2 != 0, 2, 1))\n",
        "print(repeated_arr)"
      ],
      "metadata": {
        "colab": {
          "base_uri": "https://localhost:8080/"
        },
        "id": "eBaSYJgbR_0m",
        "outputId": "573cf543-3f67-40b1-982c-1120b465875f"
      },
      "execution_count": 16,
      "outputs": [
        {
          "output_type": "stream",
          "name": "stdout",
          "text": [
            "[1 1 2 3 3 4 5 5 6]\n"
          ]
        }
      ]
    },
    {
      "cell_type": "code",
      "source": [
        "arr = np.array([1, 2, 3, 4, 5, 6])\n",
        "repeated_arr = np.repeat(arr, arr)\n",
        "print(repeated_arr)"
      ],
      "metadata": {
        "colab": {
          "base_uri": "https://localhost:8080/"
        },
        "id": "UcZYLK1TSMtL",
        "outputId": "a8805aa7-6cb0-4b2c-8833-4f92177d70ec"
      },
      "execution_count": 17,
      "outputs": [
        {
          "output_type": "stream",
          "name": "stdout",
          "text": [
            "[1 2 2 3 3 3 4 4 4 4 5 5 5 5 5 6 6 6 6 6 6]\n"
          ]
        }
      ]
    },
    {
      "cell_type": "code",
      "source": [
        "arr = np.array([10, 20, 30])\n",
        "normalized_arr = (arr - arr.min()) / (arr.max() - arr.min())\n",
        "print(normalized_arr)"
      ],
      "metadata": {
        "colab": {
          "base_uri": "https://localhost:8080/"
        },
        "id": "gO23ssl9SRBO",
        "outputId": "fcd10577-f81b-4dbf-98fe-5c2fd213e647"
      },
      "execution_count": 18,
      "outputs": [
        {
          "output_type": "stream",
          "name": "stdout",
          "text": [
            "[0.  0.5 1. ]\n"
          ]
        }
      ]
    },
    {
      "cell_type": "code",
      "source": [
        "matrix = np.fromfunction(lambda i, j: i * j, (3, 3), dtype=int)\n",
        "print(matrix)"
      ],
      "metadata": {
        "colab": {
          "base_uri": "https://localhost:8080/"
        },
        "id": "7HUwlvC7SVut",
        "outputId": "0ab4710e-2435-4b6b-9e3c-a13d108c7c88"
      },
      "execution_count": 19,
      "outputs": [
        {
          "output_type": "stream",
          "name": "stdout",
          "text": [
            "[[0 0 0]\n",
            " [0 1 2]\n",
            " [0 2 4]]\n"
          ]
        }
      ]
    },
    {
      "cell_type": "code",
      "source": [
        "matrix = np.arange(16).reshape(4, 4)\n",
        "np.fill_diagonal(matrix, 0)\n",
        "print(matrix)"
      ],
      "metadata": {
        "colab": {
          "base_uri": "https://localhost:8080/"
        },
        "id": "X1Oelc6fSYU7",
        "outputId": "cfc8b7b0-0468-4333-ad42-2fb4855db934"
      },
      "execution_count": 20,
      "outputs": [
        {
          "output_type": "stream",
          "name": "stdout",
          "text": [
            "[[ 0  1  2  3]\n",
            " [ 4  0  6  7]\n",
            " [ 8  9  0 11]\n",
            " [12 13 14  0]]\n"
          ]
        }
      ]
    },
    {
      "cell_type": "code",
      "source": [],
      "metadata": {
        "id": "aTj-P0LLSmYs"
      },
      "execution_count": null,
      "outputs": []
    }
  ]
}